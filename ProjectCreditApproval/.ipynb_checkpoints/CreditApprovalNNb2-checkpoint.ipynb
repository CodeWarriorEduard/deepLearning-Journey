{
 "cells": [
  {
   "cell_type": "markdown",
   "id": "3adc7713-a08a-481d-833b-023366258b58",
   "metadata": {},
   "source": [
    "#### IMPORTAMOS LIBRERIAS A USAR"
   ]
  },
  {
   "cell_type": "code",
   "execution_count": 1,
   "id": "2e7c9f81-49fc-4418-9c09-f8498b8977ce",
   "metadata": {},
   "outputs": [],
   "source": [
    "import numpy as np\n",
    "import pandas as pd"
   ]
  },
  {
   "cell_type": "markdown",
   "id": "e1a1b7f9-35b0-4770-ac9e-e7e00e92afab",
   "metadata": {},
   "source": [
    "## Cargamos los datos a utilizar\n",
    "Preview de los datos"
   ]
  },
  {
   "cell_type": "code",
   "execution_count": 4,
   "id": "2e951213-7b72-47b4-967b-53065c741838",
   "metadata": {},
   "outputs": [
    {
     "data": {
      "text/html": [
       "<div>\n",
       "<style scoped>\n",
       "    .dataframe tbody tr th:only-of-type {\n",
       "        vertical-align: middle;\n",
       "    }\n",
       "\n",
       "    .dataframe tbody tr th {\n",
       "        vertical-align: top;\n",
       "    }\n",
       "\n",
       "    .dataframe thead th {\n",
       "        text-align: right;\n",
       "    }\n",
       "</style>\n",
       "<table border=\"1\" class=\"dataframe\">\n",
       "  <thead>\n",
       "    <tr style=\"text-align: right;\">\n",
       "      <th></th>\n",
       "      <th>Gender</th>\n",
       "      <th>Age</th>\n",
       "      <th>Debt</th>\n",
       "      <th>Married</th>\n",
       "      <th>BankCustomer</th>\n",
       "      <th>Industry</th>\n",
       "      <th>Ethnicity</th>\n",
       "      <th>YearsEmployed</th>\n",
       "      <th>PriorDefault</th>\n",
       "      <th>Employed</th>\n",
       "      <th>CreditScore</th>\n",
       "      <th>DriversLicense</th>\n",
       "      <th>Citizen</th>\n",
       "      <th>ZipCode</th>\n",
       "      <th>Income</th>\n",
       "      <th>Approved</th>\n",
       "    </tr>\n",
       "  </thead>\n",
       "  <tbody>\n",
       "    <tr>\n",
       "      <th>0</th>\n",
       "      <td>1</td>\n",
       "      <td>30.83</td>\n",
       "      <td>0.000</td>\n",
       "      <td>1</td>\n",
       "      <td>1</td>\n",
       "      <td>Industrials</td>\n",
       "      <td>White</td>\n",
       "      <td>1.25</td>\n",
       "      <td>1</td>\n",
       "      <td>1</td>\n",
       "      <td>1</td>\n",
       "      <td>0</td>\n",
       "      <td>ByBirth</td>\n",
       "      <td>202</td>\n",
       "      <td>0</td>\n",
       "      <td>1</td>\n",
       "    </tr>\n",
       "    <tr>\n",
       "      <th>1</th>\n",
       "      <td>0</td>\n",
       "      <td>58.67</td>\n",
       "      <td>4.460</td>\n",
       "      <td>1</td>\n",
       "      <td>1</td>\n",
       "      <td>Materials</td>\n",
       "      <td>Black</td>\n",
       "      <td>3.04</td>\n",
       "      <td>1</td>\n",
       "      <td>1</td>\n",
       "      <td>6</td>\n",
       "      <td>0</td>\n",
       "      <td>ByBirth</td>\n",
       "      <td>43</td>\n",
       "      <td>560</td>\n",
       "      <td>1</td>\n",
       "    </tr>\n",
       "    <tr>\n",
       "      <th>2</th>\n",
       "      <td>0</td>\n",
       "      <td>24.50</td>\n",
       "      <td>0.500</td>\n",
       "      <td>1</td>\n",
       "      <td>1</td>\n",
       "      <td>Materials</td>\n",
       "      <td>Black</td>\n",
       "      <td>1.50</td>\n",
       "      <td>1</td>\n",
       "      <td>0</td>\n",
       "      <td>0</td>\n",
       "      <td>0</td>\n",
       "      <td>ByBirth</td>\n",
       "      <td>280</td>\n",
       "      <td>824</td>\n",
       "      <td>1</td>\n",
       "    </tr>\n",
       "    <tr>\n",
       "      <th>3</th>\n",
       "      <td>1</td>\n",
       "      <td>27.83</td>\n",
       "      <td>1.540</td>\n",
       "      <td>1</td>\n",
       "      <td>1</td>\n",
       "      <td>Industrials</td>\n",
       "      <td>White</td>\n",
       "      <td>3.75</td>\n",
       "      <td>1</td>\n",
       "      <td>1</td>\n",
       "      <td>5</td>\n",
       "      <td>1</td>\n",
       "      <td>ByBirth</td>\n",
       "      <td>100</td>\n",
       "      <td>3</td>\n",
       "      <td>1</td>\n",
       "    </tr>\n",
       "    <tr>\n",
       "      <th>4</th>\n",
       "      <td>1</td>\n",
       "      <td>20.17</td>\n",
       "      <td>5.625</td>\n",
       "      <td>1</td>\n",
       "      <td>1</td>\n",
       "      <td>Industrials</td>\n",
       "      <td>White</td>\n",
       "      <td>1.71</td>\n",
       "      <td>1</td>\n",
       "      <td>0</td>\n",
       "      <td>0</td>\n",
       "      <td>0</td>\n",
       "      <td>ByOtherMeans</td>\n",
       "      <td>120</td>\n",
       "      <td>0</td>\n",
       "      <td>1</td>\n",
       "    </tr>\n",
       "  </tbody>\n",
       "</table>\n",
       "</div>"
      ],
      "text/plain": [
       "   Gender    Age   Debt  Married  BankCustomer     Industry Ethnicity  \\\n",
       "0       1  30.83  0.000        1             1  Industrials     White   \n",
       "1       0  58.67  4.460        1             1    Materials     Black   \n",
       "2       0  24.50  0.500        1             1    Materials     Black   \n",
       "3       1  27.83  1.540        1             1  Industrials     White   \n",
       "4       1  20.17  5.625        1             1  Industrials     White   \n",
       "\n",
       "   YearsEmployed  PriorDefault  Employed  CreditScore  DriversLicense  \\\n",
       "0           1.25             1         1            1               0   \n",
       "1           3.04             1         1            6               0   \n",
       "2           1.50             1         0            0               0   \n",
       "3           3.75             1         1            5               1   \n",
       "4           1.71             1         0            0               0   \n",
       "\n",
       "        Citizen  ZipCode  Income  Approved  \n",
       "0       ByBirth      202       0         1  \n",
       "1       ByBirth       43     560         1  \n",
       "2       ByBirth      280     824         1  \n",
       "3       ByBirth      100       3         1  \n",
       "4  ByOtherMeans      120       0         1  "
      ]
     },
     "execution_count": 4,
     "metadata": {},
     "output_type": "execute_result"
    }
   ],
   "source": [
    "data = pd.read_csv('data_credit.csv')\n",
    "data.head()"
   ]
  },
  {
   "cell_type": "markdown",
   "id": "21fb9506-6f89-470c-ad9d-06fcad83462f",
   "metadata": {},
   "source": [
    "## Inicializamos los parámetros de la red neuronal\n"
   ]
  },
  {
   "cell_type": "code",
   "execution_count": 7,
   "id": "eab46f08-1f26-407b-b9ae-72f186ee8ae5",
   "metadata": {},
   "outputs": [],
   "source": [
    "def parameter_initialization(n_h, n_x, n_y):\n",
    "    \n",
    "    # Donde n_h será el tamaño de la capa oculta\n",
    "    # Tamaño de la capa de entrada\n",
    "    # Tamaño de la capa de salida\n",
    "\n",
    "\n",
    "    np.random.seed(1)\n",
    "\n",
    "    W1 = np.random.randn(n_h, n_x) * 0.01\n",
    "    b1 = np.zeros(shape=(n_h,1))\n",
    "    W2 = np.random.randn(n_y, n_h) * 0.01\n",
    "    b2 = np.zeros(shape=(n_y,1))\n",
    "\n",
    "    parameters = {\"W1\": W1,\n",
    "                  \"b1\": b1,\n",
    "                  \"W2\": W2,\n",
    "                  \"b2\":b2}\n",
    "    \n",
    "    return parameters\n",
    "    "
   ]
  },
  {
   "cell_type": "code",
   "execution_count": 8,
   "id": "e85c028b-1c3e-4a48-8dd4-8ce03d36e4f0",
   "metadata": {},
   "outputs": [
    {
     "name": "stdout",
     "output_type": "stream",
     "text": [
      "W1: \n",
      " [[ 0.01624345 -0.00611756]\n",
      " [-0.00528172 -0.01072969]]\n",
      "B1: \n",
      " [[0.]\n",
      " [0.]]\n",
      "W2: \n",
      " [[ 0.00865408 -0.02301539]]\n",
      "B2: \n",
      " [[0.]]\n"
     ]
    }
   ],
   "source": [
    "parameters = (parameter_initialization(2,2,1))\n",
    "print(\"W1: \\n\",parameters[\"W1\"])\n",
    "print(\"B1: \\n\",parameters[\"b1\"])\n",
    "print(\"W2: \\n\",parameters[\"W2\"])\n",
    "print(\"B2: \\n\",parameters[\"b2\"])"
   ]
  },
  {
   "cell_type": "markdown",
   "id": "4b4a29b7-3801-491e-b57b-c233e86be0ef",
   "metadata": {},
   "source": [
    "### FORWARD PROPAGATION"
   ]
  },
  {
   "cell_type": "markdown",
   "id": "3a71ad74-f484-4b22-8479-9f66dd3536e3",
   "metadata": {},
   "source": [
    "#### ACTIVATION FUNCTIONS"
   ]
  },
  {
   "cell_type": "code",
   "execution_count": 4,
   "id": "71be0ee8-b29a-4051-aa29-1bca29dd7b6c",
   "metadata": {},
   "outputs": [],
   "source": [
    "def relu(x):\n",
    "    return np.maximum(x,0)\n",
    "    "
   ]
  },
  {
   "cell_type": "markdown",
   "id": "ba32990b-6efe-4894-af31-ddfbe624ec84",
   "metadata": {},
   "source": [
    "### FORWARD PROPAGATION"
   ]
  },
  {
   "cell_type": "code",
   "execution_count": 2,
   "id": "58e5edc5-2fb3-4066-aca4-e386f2b0e6c6",
   "metadata": {},
   "outputs": [],
   "source": [
    "def forward_p(A, W, b):\n",
    "    Z = np.dot(W,A)+b\n",
    "    cache = (A_prev,b)\n",
    "    return Z, cache\n",
    "    \n",
    "    "
   ]
  },
  {
   "cell_type": "code",
   "execution_count": 3,
   "id": "390c76c7-8790-49e1-be91-fc6bcc79ccf8",
   "metadata": {},
   "outputs": [],
   "source": [
    "def linear_activation_forward(A_prev, W,b,activation):##\n",
    "\n",
    "    Z,linear_cache = forward_p(A_prev, W,b)\n",
    "    A, activation_cache = relu(Z)\n",
    "    cache = (linear_cache, activation_cache)\n",
    "    \n",
    "    return A, cache"
   ]
  },
  {
   "cell_type": "markdown",
   "id": "9250caac-610d-4b97-aa11-333fa307d70a",
   "metadata": {},
   "source": [
    "### COST FUNCTION"
   ]
  },
  {
   "cell_type": "code",
   "execution_count": 7,
   "id": "1698f0c9-1f99-4396-b7d0-c59bfe536937",
   "metadata": {},
   "outputs": [],
   "source": [
    "def cost(AL, Y):##\n",
    "    m = Y.shape[1]\n",
    "    cost = (-1 / m) * np.sum(np.multiply(Y, np.log(AL)) + np.multiply(1 - Y, np.log(1 - AL)))\n",
    "    cost = np.squeeze(cost)\n",
    "    return cost"
   ]
  },
  {
   "cell_type": "markdown",
   "id": "1a4616b6-ee67-453e-9698-aaa3812b2b79",
   "metadata": {},
   "source": [
    "### BACKWARD PROPAGATION"
   ]
  },
  {
   "cell_type": "code",
   "execution_count": 16,
   "id": "2a370cf5-f391-4ac9-89c4-0500ac68936f",
   "metadata": {},
   "outputs": [],
   "source": [
    "def relu_backward(dA, cache):\n",
    "    Z = cache\n",
    "    dZ = np.array(dA, copy=True)\n",
    "    dZ[Z <= 0] = 0\n",
    "    return dZ"
   ]
  },
  {
   "cell_type": "code",
   "execution_count": 17,
   "id": "05c8184d-8adb-45e7-843c-c24f28c4ade9",
   "metadata": {},
   "outputs": [],
   "source": [
    "def backward_p(dZ, cache):##\n",
    "    A_prev, W, b = cache\n",
    "    m = A_prev.shape[1]\n",
    "    dw = np.dot(dZ, cache[0].T)/m\n",
    "    db = np.squeeze(np.sum(dZ, axis=1, keepdims=True)) / m\n",
    "    dA_prev = np.dot(cache[1].T, dZ)\n",
    "    return dA_prev, dW, db"
   ]
  },
  {
   "cell_type": "code",
   "execution_count": 18,
   "id": "48c019ba-9f69-4495-8270-a12f15bffd0d",
   "metadata": {},
   "outputs": [],
   "source": [
    "def linear_activation_backward(dA, cache, activation):##\n",
    "    linear_cache, activation_cache = cache\n",
    "    dZ = relu_backward(dA, activation_cache)\n",
    "    dA_prev, dW, db = linear_backward(dZ,linear_cache)\n",
    "    return dA_prev, dW, db"
   ]
  },
  {
   "cell_type": "markdown",
   "id": "61d10a26-201f-42de-9c20-65d556bfdf58",
   "metadata": {},
   "source": [
    "### GRADIENT DESCENT TO UPDATE PARAMETERS"
   ]
  },
  {
   "cell_type": "code",
   "execution_count": 21,
   "id": "c9a511d3-0fa6-4d43-81a8-e14c77444cb3",
   "metadata": {},
   "outputs": [],
   "source": [
    "def gd_update_parameters(parameters, grads, learning_rate): ## \n",
    "    L = len(parameters)\n",
    "    for l in range(L):\n",
    "        parameters[\"W\" + str(l + 1)] = parameters[\"W\" + str(l + 1)] - learning_rate * grads[\"dW\" + str(l + 1)]\n",
    "        parameters[\"b\" + str(l + 1)] = parameters[\"b\" + str(l + 1)] - learning_rate * grads[\"db\" + str(l + 1)]\n",
    "        \n",
    "    return parameters"
   ]
  }
 ],
 "metadata": {
  "kernelspec": {
   "display_name": "Python 3 (ipykernel)",
   "language": "python",
   "name": "python3"
  },
  "language_info": {
   "codemirror_mode": {
    "name": "ipython",
    "version": 3
   },
   "file_extension": ".py",
   "mimetype": "text/x-python",
   "name": "python",
   "nbconvert_exporter": "python",
   "pygments_lexer": "ipython3",
   "version": "3.12.2"
  }
 },
 "nbformat": 4,
 "nbformat_minor": 5
}
